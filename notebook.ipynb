{
 "cells": [
  {
   "cell_type": "code",
   "execution_count": 8,
   "metadata": {},
   "outputs": [],
   "source": [
    "from PIL import Image\n",
    "\n",
    "# Open your original image\n",
    "image = Image.open(\"image.jpg\")  # Replace with your image path\n",
    "\n",
    "# Open the frame image (ensure it's a transparent PNG or WEBP)\n",
    "frame = Image.open(\"frame.webp\")  # Replace with your frame path\n",
    "\n",
    "# Ensure both images are in RGBA mode\n",
    "image = image.convert(\"RGBA\")\n",
    "frame = frame.convert(\"RGBA\")\n",
    "\n",
    "# Resize the frame to match the original image dimensions\n",
    "frame = frame.resize(image.size, Image.Resampling.LANCZOS)\n",
    "\n",
    "# Combine the images\n",
    "combined = Image.alpha_composite(image, frame)\n",
    "\n",
    "# Save or display the result\n",
    "combined.save(\"output_image.png\")  # Save with transparency if needed\n",
    "# combined.show()\n"
   ]
  }
 ],
 "metadata": {
  "kernelspec": {
   "display_name": "Python 3",
   "language": "python",
   "name": "python3"
  },
  "language_info": {
   "codemirror_mode": {
    "name": "ipython",
    "version": 3
   },
   "file_extension": ".py",
   "mimetype": "text/x-python",
   "name": "python",
   "nbconvert_exporter": "python",
   "pygments_lexer": "ipython3",
   "version": "3.10.0"
  }
 },
 "nbformat": 4,
 "nbformat_minor": 2
}
